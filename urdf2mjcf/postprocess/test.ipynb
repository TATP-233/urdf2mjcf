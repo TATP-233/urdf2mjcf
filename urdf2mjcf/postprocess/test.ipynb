{
 "cells": [
  {
   "cell_type": "code",
   "execution_count": 7,
   "metadata": {},
   "outputs": [],
   "source": [
    "import re\n",
    "import json\n",
    "from xml.dom import minidom\n",
    "\n",
    "import xml.etree.ElementTree as ET\n",
    "from urdf2mjcf.model import DefaultJointMetadata\n",
    "\n",
    "ROBOT_CLASS = \"robot\"\n",
    "\n",
    "default_metadata = \"/home/tatp/ws/GAL/urdf2mjcf/tests/foxtrot/default.json\"\n",
    "with open(default_metadata, \"r\") as f:\n",
    "    default_metadata = json.load(f)\n",
    "    for key, value in default_metadata.items():\n",
    "        default_metadata[key] = DefaultJointMetadata.from_dict(value)"
   ]
  },
  {
   "cell_type": "code",
   "execution_count": null,
   "metadata": {},
   "outputs": [],
   "source": [
    "default_metadata['leg_joint'].joint"
   ]
  },
  {
   "cell_type": "code",
   "execution_count": 11,
   "metadata": {},
   "outputs": [],
   "source": [
    "default = ET.Element(\"default\")\n",
    "robot_default = ET.SubElement(default, \"default\", attrib={\"class\": ROBOT_CLASS})\n",
    "\n",
    "for class_name, class_metadata in default_metadata.items():\n",
    "    sub_default = ET.SubElement(robot_default, \"default\", attrib={\"class\": str(class_name)})\n",
    "    joint_attrib = {}\n",
    "    c_joint = class_metadata.joint\n",
    "    if c_joint.armature is not None:\n",
    "        joint_attrib[\"armature\"] = str(c_joint.armature)\n",
    "    if c_joint.stiffness is not None:\n",
    "        joint_attrib[\"stiffness\"] = str(c_joint.stiffness)\n",
    "    if c_joint.damping is not None:\n",
    "        joint_attrib[\"damping\"] = str(c_joint.damping)\n",
    "    if c_joint.frictionloss is not None:\n",
    "        joint_attrib[\"frictionloss\"] = str(c_joint.frictionloss)\n",
    "    ET.SubElement(sub_default, \"joint\", attrib=joint_attrib)\n",
    "\n",
    "    c_actuator = class_metadata.actuator\n",
    "    if c_actuator.actuator_type is None:\n",
    "        continue\n",
    "\n",
    "    actuator_attrib = {}\n",
    "    if c_actuator.kp is not None:\n",
    "        actuator_attrib[\"kp\"] = str(c_actuator.kp)\n",
    "    if c_actuator.kv is not None:\n",
    "        actuator_attrib[\"kv\"] = str(c_actuator.kv)\n",
    "    if c_actuator.forcerange is not None:\n",
    "        actuator_attrib[\"forcerange\"] = f\"{c_actuator.forcerange[0]} {c_actuator.forcerange[1]}\"\n",
    "\n",
    "    ET.SubElement(sub_default, c_actuator.actuator_type, attrib=actuator_attrib)\n"
   ]
  },
  {
   "cell_type": "code",
   "execution_count": null,
   "metadata": {},
   "outputs": [],
   "source": [
    "xmlstr = minidom.parseString(ET.tostring(default)).toprettyxml(indent=\"  \")\n",
    "xmlstr = re.sub(r\"\\n\\s*\\n\", \"\\n\", xmlstr)\n",
    "\n",
    "# Add newlines between second-level nodes\n",
    "root = ET.fromstring(xmlstr)\n",
    "for child in root[:-1]:\n",
    "    child.tail = \"\\n\\n  \"\n",
    "xmlstr = ET.tostring(root, encoding=\"unicode\")\n",
    "print(xmlstr)"
   ]
  }
 ],
 "metadata": {
  "kernelspec": {
   "display_name": "gal_mj",
   "language": "python",
   "name": "python3"
  },
  "language_info": {
   "codemirror_mode": {
    "name": "ipython",
    "version": 3
   },
   "file_extension": ".py",
   "mimetype": "text/x-python",
   "name": "python",
   "nbconvert_exporter": "python",
   "pygments_lexer": "ipython3",
   "version": "3.10.18"
  }
 },
 "nbformat": 4,
 "nbformat_minor": 2
}
